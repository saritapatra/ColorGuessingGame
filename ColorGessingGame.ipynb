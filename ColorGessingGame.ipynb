{
 "cells": [
  {
   "cell_type": "code",
   "execution_count": 19,
   "id": "71cbf1a8-4127-41c4-b695-e6a49f7c9b15",
   "metadata": {},
   "outputs": [
    {
     "name": "stdout",
     "output_type": "stream",
     "text": [
      " WELCOME COLOR ZONE \n"
     ]
    },
    {
     "name": "stdin",
     "output_type": "stream",
     "text": [
      "guess a color: black\n"
     ]
    },
    {
     "name": "stdout",
     "output_type": "stream",
     "text": [
      "wrong guess , try again\n"
     ]
    },
    {
     "name": "stdin",
     "output_type": "stream",
     "text": [
      "guess a color: blue\n"
     ]
    },
    {
     "name": "stdout",
     "output_type": "stream",
     "text": [
      "wrong guess , try again\n"
     ]
    },
    {
     "name": "stdin",
     "output_type": "stream",
     "text": [
      "guess a color: orange\n"
     ]
    },
    {
     "name": "stdout",
     "output_type": "stream",
     "text": [
      "wrong guess , try again\n"
     ]
    },
    {
     "name": "stdin",
     "output_type": "stream",
     "text": [
      "guess a color: white\n"
     ]
    },
    {
     "name": "stdout",
     "output_type": "stream",
     "text": [
      "yey...correct color... white\n"
     ]
    }
   ],
   "source": [
    "# COLOR GUESSING GAME (USING RANDOM MODULE):\n",
    "\n",
    "from random import randint\n",
    "\n",
    "\n",
    "colors=[\"white\",\"red\",\"pink\",\"green\"]\n",
    "generator = randint(0, len(colors)-1)\n",
    "\n",
    "print(\" WELCOME COLOR ZONE \")\n",
    "\n",
    "for color in colors[generator]:\n",
    "    guess = input(\"guess a color:\")\n",
    "    if guess != colors[generator]:\n",
    "         print(\"wrong guess , try again\")\n",
    "    elif guess == colors[generator]:\n",
    "        print(\"yey...correct color...\", colors[generator])\n",
    "        break   \n"
   ]
  },
  {
   "cell_type": "code",
   "execution_count": null,
   "id": "63560649-2976-4971-b2b9-e04ee9803976",
   "metadata": {},
   "outputs": [],
   "source": []
  }
 ],
 "metadata": {
  "kernelspec": {
   "display_name": "Python 3 (ipykernel)",
   "language": "python",
   "name": "python3"
  },
  "language_info": {
   "codemirror_mode": {
    "name": "ipython",
    "version": 3
   },
   "file_extension": ".py",
   "mimetype": "text/x-python",
   "name": "python",
   "nbconvert_exporter": "python",
   "pygments_lexer": "ipython3",
   "version": "3.11.5"
  }
 },
 "nbformat": 4,
 "nbformat_minor": 5
}
