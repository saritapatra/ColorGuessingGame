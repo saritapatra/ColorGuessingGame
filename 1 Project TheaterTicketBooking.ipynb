{
 "cells": [
  {
   "cell_type": "code",
   "execution_count": null,
   "id": "7a601ad5-eb11-4803-87cd-a7dd60885d58",
   "metadata": {},
   "outputs": [
    {
     "name": "stdin",
     "output_type": "stream",
     "text": [
      "enter your name -\n",
      "        mobile no -\n",
      "        age-\n",
      "        gender- ayushi\n",
      "enter your ticket numbers -  4\n",
      "what type of seats you want? - normal\n",
      "do you want to add combo Rs.150 : no\n"
     ]
    },
    {
     "name": "stdout",
     "output_type": "stream",
     "text": [
      "__________________________________________________\n",
      "customer's name ayushi\n",
      "total seats available: 396\n",
      "total pre_seats: 50\n",
      "total excu_seats: 150\n",
      "total nor_seats: 196\n",
      "__________________________________________________\n",
      "total price for the show: 400\n"
     ]
    }
   ],
   "source": [
    "    #THEATER TICKETS BOOKING SYSTEM\n",
    "    total_seats=400\n",
    "    premium_seats=50\n",
    "    pre_price=300\n",
    "    excutive_seats=150\n",
    "    excu_price=200\n",
    "    normal_seats=200\n",
    "    nor_price=100   \n",
    "    combo_price=150\n",
    "\n",
    "\n",
    "while True:\n",
    "            name=input(\"\"\"enter your name -\n",
    "            mobile no -\n",
    "            age-\n",
    "            gender-\"\"\")\n",
    "            tickets = int(input(\"enter your ticket numbers - \"))\n",
    "            if tickets > total_seats:\n",
    "              print(\"OOPS!....SORRY WE ARE HOUSEFULLED\") \n",
    "              break\n",
    "            else:\n",
    "               seat_type = input(\"what type of seats you want? -\")\n",
    "            if seat_type == \"premium\":\n",
    "                if tickets <= premium_seats:\n",
    "                    total_seats -=tickets\n",
    "                    premium_seats -=tickets\n",
    "                    total_price=pre_price*tickets\n",
    "                else:\n",
    "                    print(\"sorry,only premium_seats:\",premium_seats)\n",
    "                    continue\n",
    "            elif seat_type == \"excutive\":\n",
    "                if tickets <= excutive_seats:\n",
    "                   total_seats -=tickets\n",
    "                   excutive_seats -=tickets\n",
    "                   total_price=excu_price*tickets\n",
    "                else:\n",
    "                   print(\"sorry,only excutive_seats:\",excutive_seats)\n",
    "                   continue\n",
    "            elif seat_type == \"normal\"  :\n",
    "                 if tickets <= normal_seats:\n",
    "                     total_seats -=tickets\n",
    "                     normal_seats -=tickets\n",
    "                     total_price = nor_price*tickets\n",
    "                 else:\n",
    "                     print(\"sorry, only normal_seats:\",normal_seats)\n",
    "                     continue\n",
    "            else:\n",
    "               print(\"please choose right option\")\n",
    "               continue\n",
    "    \n",
    "            combo = input(\"do you want to add combo Rs.150 :\")\n",
    "    \n",
    "            if combo == \"yes\":\n",
    "                quantity = int(input(\"how much combo do you want to add?\"))\n",
    "                combo_price = quantity*150\n",
    "                total_price = total+combo_price\n",
    "            \n",
    "            \n",
    "            print(\"_\" * 50)\n",
    "            print(\"customer's name\",name)\n",
    "            print(\"total seats available:\",total_seats)\n",
    "            print(\"total pre_seats:\",premium_seats)\n",
    "            print(\"total excu_seats:\",excutive_seats)\n",
    "            print(\"total nor_seats:\",normal_seats)\n",
    "            print(\"_\"*50)\n",
    "            print(\"total price for the show:\",total_price)\n",
    "            \n",
    "            next_person = input(\"do you want to another(yes/no)-\")\n",
    "            if next_person == \"yes\":\n",
    "                continue\n",
    "            else:\n",
    "                print(\"go to back...\")\n",
    "                break"
   ]
  },
  {
   "cell_type": "code",
   "execution_count": null,
   "id": "f8bee35e-a8e6-43fc-b8d2-c3b9dc52c441",
   "metadata": {},
   "outputs": [],
   "source": []
  }
 ],
 "metadata": {
  "kernelspec": {
   "display_name": "Python 3 (ipykernel)",
   "language": "python",
   "name": "python3"
  },
  "language_info": {
   "codemirror_mode": {
    "name": "ipython",
    "version": 3
   },
   "file_extension": ".py",
   "mimetype": "text/x-python",
   "name": "python",
   "nbconvert_exporter": "python",
   "pygments_lexer": "ipython3",
   "version": "3.11.5"
  }
 },
 "nbformat": 4,
 "nbformat_minor": 5
}
